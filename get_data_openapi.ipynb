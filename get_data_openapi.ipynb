{
 "cells": [
  {
   "cell_type": "code",
   "execution_count": 11,
   "metadata": {},
   "outputs": [],
   "source": [
    "import pandas as pd\n",
    "import requests, json, os\n",
    "\n",
    "def get_data(pids, years):\n",
    "    id = 'usnavy09'\n",
    "    apikey = 'J0RL197TS3DBGG61VRPDAF8AECQXM7AU07DVZS8NY553P'\n",
    "    url = 'http://www.recycling-info.or.kr/sds/JsonApi.do?'\n",
    "    items = []\n",
    "    \n",
    "    # pid, year 반복\n",
    "    for pid in pids:\n",
    "        for year in years:\n",
    "            param = f'PID={pid}&YEAR={year}&USRID={id}&KEY={apikey}'\n",
    "            \n",
    "            try:\n",
    "                response = requests.get(url=url + param).json()\n",
    "                # 예외처리\n",
    "                if 'error' in response:\n",
    "                    raise Exception(f\"API 오류: {response['error']}\")\n",
    "                elif response['result'][0]['ERR_CODE'] != 'E000':\n",
    "                    raise Exception(f\"error : {response['result'][0]['RESULT']}\")\n",
    "                \n",
    "                # 집계된 데이터 제외\n",
    "                for item in response['data']:\n",
    "                    if '합계' not in item.values():\n",
    "                        items.append(item)\n",
    "                \n",
    "                # 컬럼을 한글로 바꾼 후 데이터 저장\n",
    "                year_label = response['result'][0]['YEAR']\n",
    "                title_label = response['result'][0]['TITLE']\n",
    "                df = pd.json_normalize(items)\n",
    "                df.rename(columns=response['dataHeader'][0], inplace=True)\n",
    "                \n",
    "                # data-files 폴더 생성\n",
    "                if 'data-files' not in os.listdir():\n",
    "                    os.makedirs('data-files')\n",
    "                df.to_csv(f'data-files/{year_label}_{title_label}.csv', index=False)\n",
    "                print(f\"데이터 저장완료 : {year_label}_{title_label}.csv\")\n",
    "                \n",
    "            except requests.exceptions.RequestException as e:\n",
    "                print(f\"네트워크 오류: {e}\")\n",
    "                \n",
    "            except Exception as e:\n",
    "                print(f\"예외 발생: {e}\")\n",
    "        "
   ]
  },
  {
   "cell_type": "code",
   "execution_count": 12,
   "metadata": {},
   "outputs": [
    {
     "name": "stdout",
     "output_type": "stream",
     "text": [
      "데이터 저장완료 : 2016_1가(생활폐기물 관리구역).csv\n",
      "데이터 저장완료 : 2017_1가(생활폐기물 관리구역).csv\n",
      "데이터 저장완료 : 2016_1나(사업장폐기물배출업소).csv\n",
      "데이터 저장완료 : 2017_1나(사업장폐기물배출업소).csv\n"
     ]
    }
   ],
   "source": [
    "pids = ['NTN001', 'NTN002']\n",
    "years = [2016, 2017]\n",
    "get_data(pids, years)"
   ]
  }
 ],
 "metadata": {
  "kernelspec": {
   "display_name": "Python 3",
   "language": "python",
   "name": "python3"
  },
  "language_info": {
   "codemirror_mode": {
    "name": "ipython",
    "version": 3
   },
   "file_extension": ".py",
   "mimetype": "text/x-python",
   "name": "python",
   "nbconvert_exporter": "python",
   "pygments_lexer": "ipython3",
   "version": "3.11.1"
  },
  "orig_nbformat": 4
 },
 "nbformat": 4,
 "nbformat_minor": 2
}
