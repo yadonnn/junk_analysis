{
 "cells": [
  {
   "cell_type": "code",
   "execution_count": 10,
   "metadata": {},
   "outputs": [],
   "source": [
    "import pandas as pd\n",
    "import requests, json, os\n",
    "\n",
    "def get_data(pids, years):\n",
    "    id = 'usnavy09'\n",
    "    apikey = 'J0RL197TS3DBGG61VRPDAF8AECQXM7AU07DVZS8NY553P'\n",
    "    url = 'http://www.recycling-info.or.kr/sds/JsonApi.do?'\n",
    "    \n",
    "    \n",
    "    # pid, year 반복\n",
    "    for pid in pids:\n",
    "        for year in years:\n",
    "            param = f'PID={pid}&YEAR={year}&USRID={id}&KEY={apikey}'\n",
    "            items = []\n",
    "            try:\n",
    "                response = requests.get(url=url + param).json()\n",
    "                # 예외처리\n",
    "                if 'error' in response:\n",
    "                    raise Exception(f\"API 오류: {response['error']}\")\n",
    "                elif response['result'][0]['ERR_CODE'] != 'E000':\n",
    "                    raise Exception(f\"error : {response['result'][0]['RESULT']}\")\n",
    "                \n",
    "                # 집계된 데이터 제외\n",
    "                for item in response['data']:\n",
    "                    if '합계' not in item.values() and '소계' not in item.values():\n",
    "                        items.append(item)\n",
    "                \n",
    "                # 컬럼을 한글로 바꾼 후 데이터 저장\n",
    "                year_label = response['result'][0]['YEAR']\n",
    "                title_label = response['result'][0]['TITLE']\n",
    "                df = pd.json_normalize(items)\n",
    "                df.rename(columns=response['dataHeader'][0], inplace=True)\n",
    "                \n",
    "                # data-files 폴더 생성\n",
    "                if 'data-files' not in os.listdir():\n",
    "                    os.makedirs('data-files')\n",
    "                df.to_csv(f'data-files/{year_label}_{title_label}.csv', index=False)\n",
    "                print(f\"데이터 저장완료 : {year_label}_{title_label}.csv\")\n",
    "                \n",
    "            except requests.exceptions.RequestException as e:\n",
    "                print(f\"네트워크 오류: {e}\")\n",
    "                \n",
    "            except Exception as e:\n",
    "                print(f\"예외 발생: {e}\")\n",
    "        "
   ]
  },
  {
   "cell_type": "code",
   "execution_count": 11,
   "metadata": {},
   "outputs": [
    {
     "name": "stdout",
     "output_type": "stream",
     "text": [
      "데이터 저장완료 : 2020_가-2. (시군구) 사용용도별.csv\n",
      "예외 발생: error : 해당 조건과 일치하는 데이터가 없습니다.\n",
      "데이터 저장완료 : 2020_3-가. 수집운반(생활, 사업장일반).csv\n",
      "예외 발생: error : 해당 조건과 일치하는 데이터가 없습니다.\n",
      "데이터 저장완료 : 2020_4-나-1). (시군구) 생활폐기물관리예산.csv\n",
      "예외 발생: error : 해당 조건과 일치하는 데이터가 없습니다.\n",
      "데이터 저장완료 : 2020_4-나-2). (시군구) 생활폐기물관리예산집행내역.csv\n",
      "예외 발생: error : 해당 조건과 일치하는 데이터가 없습니다.\n",
      "데이터 저장완료 : 2020_3-나-1). (시군구) 관리인원 및 장비현황.csv\n",
      "예외 발생: error : 해당 조건과 일치하는 데이터가 없습니다.\n",
      "데이터 저장완료 : 2020_1-나. (시군구) 생활폐기물관리구역현황.csv\n",
      "데이터 저장완료 : 2021_1-나. (시군구) 생활폐기물관리구역현황.csv\n"
     ]
    }
   ],
   "source": [
    "pids = ['NTN064', 'NTN038', 'NTN015', 'NTN016', 'NTN011', 'NTN002']\n",
    "years = [2020, 2021]\n",
    "get_data(pids, years)"
   ]
  },
  {
   "cell_type": "code",
   "execution_count": 7,
   "metadata": {},
   "outputs": [
    {
     "name": "stdout",
     "output_type": "stream",
     "text": [
      "데이터 저장완료 : 2020_가-2. (시군구) 사용용도별.csv, PID=NTN064&YEAR=2020&USRID=usnavy09&KEY=J0RL197TS3DBGG61VRPDAF8AECQXM7AU07DVZS8NY553P\n",
      "예외 발생: error : 해당 조건과 일치하는 데이터가 없습니다.\n",
      "데이터 저장완료 : 2020_3-가. 수집운반(생활, 사업장일반).csv, PID=NTN038&YEAR=2020&USRID=usnavy09&KEY=J0RL197TS3DBGG61VRPDAF8AECQXM7AU07DVZS8NY553P\n",
      "예외 발생: error : 해당 조건과 일치하는 데이터가 없습니다.\n",
      "데이터 저장완료 : 2020_4-나-1). (시군구) 생활폐기물관리예산.csv, PID=NTN015&YEAR=2020&USRID=usnavy09&KEY=J0RL197TS3DBGG61VRPDAF8AECQXM7AU07DVZS8NY553P\n",
      "예외 발생: error : 해당 조건과 일치하는 데이터가 없습니다.\n",
      "데이터 저장완료 : 2020_4-나-2). (시군구) 생활폐기물관리예산집행내역.csv, PID=NTN016&YEAR=2020&USRID=usnavy09&KEY=J0RL197TS3DBGG61VRPDAF8AECQXM7AU07DVZS8NY553P\n",
      "예외 발생: error : 해당 조건과 일치하는 데이터가 없습니다.\n",
      "데이터 저장완료 : 2020_3-나-1). (시군구) 관리인원 및 장비현황.csv, PID=NTN011&YEAR=2020&USRID=usnavy09&KEY=J0RL197TS3DBGG61VRPDAF8AECQXM7AU07DVZS8NY553P\n",
      "예외 발생: error : 해당 조건과 일치하는 데이터가 없습니다.\n",
      "데이터 저장완료 : 2020_1-나. (시군구) 생활폐기물관리구역현황.csv, PID=NTN002&YEAR=2020&USRID=usnavy09&KEY=J0RL197TS3DBGG61VRPDAF8AECQXM7AU07DVZS8NY553P\n",
      "데이터 저장완료 : 2021_1-나. (시군구) 생활폐기물관리구역현황.csv, PID=NTN002&YEAR=2021&USRID=usnavy09&KEY=J0RL197TS3DBGG61VRPDAF8AECQXM7AU07DVZS8NY553P\n"
     ]
    }
   ],
   "source": [
    "get_data(pids, years)"
   ]
  }
 ],
 "metadata": {
  "kernelspec": {
   "display_name": "Python 3",
   "language": "python",
   "name": "python3"
  },
  "language_info": {
   "codemirror_mode": {
    "name": "ipython",
    "version": 3
   },
   "file_extension": ".py",
   "mimetype": "text/x-python",
   "name": "python",
   "nbconvert_exporter": "python",
   "pygments_lexer": "ipython3",
   "version": "3.11.1"
  },
  "orig_nbformat": 4
 },
 "nbformat": 4,
 "nbformat_minor": 2
}
