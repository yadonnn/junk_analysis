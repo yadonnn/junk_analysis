{
 "cells": [
  {
   "cell_type": "code",
   "execution_count": 1,
   "metadata": {},
   "outputs": [],
   "source": [
    "import pandas as pd"
   ]
  },
  {
   "attachments": {},
   "cell_type": "markdown",
   "metadata": {},
   "source": [
    "# 데이터 컬럼이 18년, 19년, 20년 다름\n",
    "# 유니온하기 위해서 필요한 컬럼만 추출하고 테이블 구조 맞추기\n",
    "# cols = 시도|시군구|전체인구|전체세대수"
   ]
  },
  {
   "cell_type": "code",
   "execution_count": 2,
   "metadata": {},
   "outputs": [
    {
     "name": "stdout",
     "output_type": "stream",
     "text": [
      "Index(['관리제외지역 비율(%)_면적비', '생활폐기물 관리구역_동(읍·면)수', '관리제외지역 비율(%)_동(읍·면)수',\n",
      "       '관리제외지역 비율(%)_세대수(가구)', '전체 행정구역_동(읍·면)수', '구분_시군구', '전체 행정구역_면적(㎢)',\n",
      "       '생활폐기물관리제외지역_세대수(가구)', '생활폐기물관리제외지역_인구(명)', '생활폐기물 관리구역_인구(명)',\n",
      "       '생활폐기물관리제외지역_면적(㎢)', '생활폐기물관리제외지역_동(읍·면)수', '생활폐기물 관리구역_면적(㎢)',\n",
      "       '전체 행정구역_인구(명)', '관리제외지역 비율(%)_연구비', '전체 행정구역_세대수(가구)',\n",
      "       '생활폐기물 관리구역_세대수(가구)', '구분_시도'],\n",
      "      dtype='object')\n",
      "Index(['시도', '시군구', '전체행정구역_면적(㎢)', '전체행정구역_인구(명)', '전체행정구역_동(읍·면)수(개소)',\n",
      "       '전체행정구역_세대수(가구)', '생활폐기물 관리구역_면적(㎢)', '생활폐기물 관리구역_인구(명)',\n",
      "       '생활폐기물 관리구역_동(읍·면)수(개소)', '생활폐기물 관리구역_세대수(가구)', '생활폐기물 관리제외지역_면적(㎢)',\n",
      "       '생활폐기물 관리제외지역_인구(명)', '생활폐기물 관리제외지역_동(읍·면)수(개소)',\n",
      "       '생활폐기물 관리제외지역_세대수(가구)', '관리제외지역 비율(%)_면적비', '관리제외지역 비율(%)_인구비',\n",
      "       '관리제외지역 비율(%)_동수비', '관리제외지역 비율(%)_세대수비'],\n",
      "      dtype='object')\n",
      "Index(['시도', '시군구', '전체행정구역_면적(㎢)', '전체행정구역_인구(명)', '전체행정구역_동(읍·면)수(개소)',\n",
      "       '전체행정구역_세대수(가구)', '생활폐기물 관리구역_면적(㎢)', '생활폐기물 관리구역_인구(명)',\n",
      "       '생활폐기물 관리구역_동(읍·면)수(개소)', '생활폐기물 관리구역_세대수(가구)', '생활폐기물 관리제외지역_면적(㎢)',\n",
      "       '생활폐기물 관리제외지역_인구(명)', '생활폐기물 관리제외지역_동(읍·면)수(개소)',\n",
      "       '생활폐기물 관리제외지역_세대수(가구)', '관리제외지역 비율(%)_면적비', '관리제외지역 비율(%)_인구비',\n",
      "       '관리제외지역 비율(%)_동수비', '관리제외지역 비율(%)_세대수비'],\n",
      "      dtype='object')\n"
     ]
    }
   ],
   "source": [
    "# 데이터 불러오기\n",
    "h_16 = pd.read_csv('data-files/2016_1가(생활폐기물 관리구역).csv')\n",
    "h_17 = pd.read_csv('data-files/2017_1가(생활폐기물 관리구역).csv')\n",
    "h_18 = pd.read_csv('data-files/2018_1가(생활폐기물 관리구역).csv')\n",
    "h_19 = pd.read_csv('data-files/2019_가-2. (시군구) 생활폐기물관리구역현황.csv')\n",
    "h_20 = pd.read_csv('data-files/2020_1-나. (시군구) 생활폐기물관리구역현황.csv')\n",
    "\n",
    "print(h_18.columns)\n",
    "print(h_19.columns)\n",
    "print(h_20.columns)"
   ]
  },
  {
   "cell_type": "code",
   "execution_count": 4,
   "metadata": {},
   "outputs": [],
   "source": [
    "# 필요한 컬럼 추출\n",
    "df1 = h_20[\n",
    "      ['시도'\n",
    "      ,'시군구'\n",
    "      ,'전체행정구역_인구(명)'\n",
    "      ,'전체행정구역_세대수(가구)'\n",
    "      ]\n",
    "]\n",
    "df2 = h_19[\n",
    "      ['시도'\n",
    "      ,'시군구'\n",
    "      ,'전체행정구역_인구(명)'\n",
    "      ,'전체행정구역_세대수(가구)'\n",
    "      ]\n",
    "]\n",
    "df3 = h_18[\n",
    "      ['구분_시도'\n",
    "      ,'구분_시군구'\n",
    "      ,'전체 행정구역_인구(명)'\n",
    "      ,'전체 행정구역_세대수(가구)'\n",
    "      ]\n",
    "]\n",
    "df4 = h_17[\n",
    "      ['구분_시도'\n",
    "      ,'구분_시군구'\n",
    "      ,'전체 행정구역_인구(명)'\n",
    "      ,'전체 행정구역_세대수(가구)'\n",
    "      ]\n",
    "]\n",
    "df5 = h_16[\n",
    "      ['구분_시도'\n",
    "      ,'구분_시군구'\n",
    "      ,'전체 행정구역_인구(명)'\n",
    "      ,'전체 행정구역_세대수(가구)'\n",
    "      ]\n",
    "]"
   ]
  },
  {
   "cell_type": "code",
   "execution_count": 23,
   "metadata": {},
   "outputs": [
    {
     "name": "stderr",
     "output_type": "stream",
     "text": [
      "c:\\ProgramData\\miniconda3\\envs\\kdt-da\\lib\\site-packages\\pandas\\core\\frame.py:4441: SettingWithCopyWarning: \n",
      "A value is trying to be set on a copy of a slice from a DataFrame\n",
      "\n",
      "See the caveats in the documentation: https://pandas.pydata.org/pandas-docs/stable/user_guide/indexing.html#returning-a-view-versus-a-copy\n",
      "  return super().rename(\n"
     ]
    }
   ],
   "source": [
    "df3.rename(columns={'구분_시도' : '시도'\n",
    "            ,'구분_시군구' : '시군구'\n",
    "            ,'전체 행정구역_인구(명)' : '전체행정구역_인구(명)'\n",
    "            ,'전체 행정구역_세대수(가구)' : '전체행정구역_세대수(가구)'\n",
    "            }, inplace=True)\n",
    "df4.rename(columns={'구분_시도' : '시도'\n",
    "            ,'구분_시군구' : '시군구'\n",
    "            ,'전체 행정구역_인구(명)' : '전체행정구역_인구(명)'\n",
    "            ,'전체 행정구역_세대수(가구)' : '전체행정구역_세대수(가구)'\n",
    "            }, inplace=True)\n",
    "df5.rename(columns={'구분_시도' : '시도'\n",
    "            ,'구분_시군구' : '시군구'\n",
    "            ,'전체 행정구역_인구(명)' : '전체행정구역_인구(명)'\n",
    "            ,'전체 행정구역_세대수(가구)' : '전체행정구역_세대수(가구)'\n",
    "            }, inplace=True)"
   ]
  },
  {
   "cell_type": "code",
   "execution_count": 8,
   "metadata": {},
   "outputs": [
    {
     "name": "stderr",
     "output_type": "stream",
     "text": [
      "C:\\Users\\Administrator\\AppData\\Local\\Temp\\ipykernel_3048\\2652269497.py:1: SettingWithCopyWarning: \n",
      "A value is trying to be set on a copy of a slice from a DataFrame.\n",
      "Try using .loc[row_indexer,col_indexer] = value instead\n",
      "\n",
      "See the caveats in the documentation: https://pandas.pydata.org/pandas-docs/stable/user_guide/indexing.html#returning-a-view-versus-a-copy\n",
      "  df1['year'] = 2020\n",
      "C:\\Users\\Administrator\\AppData\\Local\\Temp\\ipykernel_3048\\2652269497.py:2: SettingWithCopyWarning: \n",
      "A value is trying to be set on a copy of a slice from a DataFrame.\n",
      "Try using .loc[row_indexer,col_indexer] = value instead\n",
      "\n",
      "See the caveats in the documentation: https://pandas.pydata.org/pandas-docs/stable/user_guide/indexing.html#returning-a-view-versus-a-copy\n",
      "  df2['year'] = 2019\n",
      "C:\\Users\\Administrator\\AppData\\Local\\Temp\\ipykernel_3048\\2652269497.py:3: SettingWithCopyWarning: \n",
      "A value is trying to be set on a copy of a slice from a DataFrame.\n",
      "Try using .loc[row_indexer,col_indexer] = value instead\n",
      "\n",
      "See the caveats in the documentation: https://pandas.pydata.org/pandas-docs/stable/user_guide/indexing.html#returning-a-view-versus-a-copy\n",
      "  df3['year'] = 2018\n",
      "C:\\Users\\Administrator\\AppData\\Local\\Temp\\ipykernel_3048\\2652269497.py:4: SettingWithCopyWarning: \n",
      "A value is trying to be set on a copy of a slice from a DataFrame.\n",
      "Try using .loc[row_indexer,col_indexer] = value instead\n",
      "\n",
      "See the caveats in the documentation: https://pandas.pydata.org/pandas-docs/stable/user_guide/indexing.html#returning-a-view-versus-a-copy\n",
      "  df4['year'] = 2017\n",
      "C:\\Users\\Administrator\\AppData\\Local\\Temp\\ipykernel_3048\\2652269497.py:5: SettingWithCopyWarning: \n",
      "A value is trying to be set on a copy of a slice from a DataFrame.\n",
      "Try using .loc[row_indexer,col_indexer] = value instead\n",
      "\n",
      "See the caveats in the documentation: https://pandas.pydata.org/pandas-docs/stable/user_guide/indexing.html#returning-a-view-versus-a-copy\n",
      "  df5['year'] = 2016\n"
     ]
    }
   ],
   "source": [
    "df1['year'] = 2020\n",
    "df2['year'] = 2019\n",
    "df3['year'] = 2018\n",
    "df4['year'] = 2017\n",
    "df5['year'] = 2016"
   ]
  },
  {
   "cell_type": "code",
   "execution_count": 22,
   "metadata": {},
   "outputs": [
    {
     "data": {
      "text/plain": [
       "(Index(['시도', '시군구', '전체행정구역_인구(명)', '전체행정구역_세대수(가구)', 'year'], dtype='object'),\n",
       " Index(['구분_시도', '구분_시군구', '전체 행정구역_인구(명)', '전체 행정구역_세대수(가구)', 'year'], dtype='object'))"
      ]
     },
     "execution_count": 22,
     "metadata": {},
     "output_type": "execute_result"
    }
   ],
   "source": [
    "df1.columns, df3.columns"
   ]
  },
  {
   "cell_type": "code",
   "execution_count": 26,
   "metadata": {},
   "outputs": [],
   "source": [
    "a = pd.DataFrame()\n",
    "a = pd.concat([df1, df2, df3, df4, df5], ignore_index=True)\n",
    "a.to_csv('data-files/2016_2020_인구_세대수.csv')"
   ]
  },
  {
   "cell_type": "code",
   "execution_count": null,
   "metadata": {},
   "outputs": [],
   "source": []
  }
 ],
 "metadata": {
  "kernelspec": {
   "display_name": "kdt-da",
   "language": "python",
   "name": "python3"
  },
  "language_info": {
   "codemirror_mode": {
    "name": "ipython",
    "version": 3
   },
   "file_extension": ".py",
   "mimetype": "text/x-python",
   "name": "python",
   "nbconvert_exporter": "python",
   "pygments_lexer": "ipython3",
   "version": "3.9.16"
  },
  "orig_nbformat": 4
 },
 "nbformat": 4,
 "nbformat_minor": 2
}
